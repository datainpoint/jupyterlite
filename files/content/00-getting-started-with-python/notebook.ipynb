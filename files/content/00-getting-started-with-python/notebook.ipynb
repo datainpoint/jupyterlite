{
 "cells": [
  {
   "cell_type": "markdown",
   "id": "regular-queue",
   "metadata": {
    "deletable": false,
    "editable": false
   },
   "source": [
    "# Python 起步走\n",
    "\n",
    "> 哈囉世界與 Python 禪學\n",
    "\n",
    "[數據交點](https://www.datainpoint.com) | 郭耀仁 <yaojenkuo@datainpoint.com>"
   ]
  },
  {
   "cell_type": "markdown",
   "id": "suburban-saturn",
   "metadata": {
    "deletable": false,
    "editable": false
   },
   "source": [
    "> Python is an easy to learn, powerful programming language. It has efficient high-level data structures and a simple but effective approach to object-oriented programming. Python's elegant syntax and dynamic typing, together with its interpreted nature, make it an ideal language for scripting and rapid application development in many areas on most platforms.\n",
    ">\n",
    "> 來源：<https://www.python.org>\n",
    "\n",
    "Python 是一種廣泛用途程式語言（General-purposed programming language），具有高階、直譯、與簡潔的特性，由荷蘭電腦科學家 Guido van Rossum 於 1991 年創造，目前由 Python 軟體基金會維護。Python 在資料科學、網站開發與系統自動化等應用領域中倍受熱愛，全球知名公司像 Pixar 用於電影製作、Twitch 用於系統建置以及 Spotify 用於推薦歌曲。在 NumPy、SciPy、Pandas、Matplotlib、Scikit-Learn、TensorFlow 與 PyTorch 等套件的強力加持下 Python 成為世界各地資料科學團隊的首選，團隊裡的資料科學家使用 Python 從資料中挖掘特徵尋找洞見（Insight）、資料工程師使用 Python 建構與部署機器學習與自動化系統，為企業獲取競爭優勢。\n",
    "\n",
    "## 驚人的受歡迎程度\n",
    "\n",
    "截至 2021 年 8月，Python 在 TIOBE Index 排名第 2 位、在 2020 IEEE Top Programming Languages 調查排名第 1 位、在 StackOverflow Trends 以 16% 問題比率排名第 1 位；根據資料科學家社群 Kaggle 在 2020 年針對網站會員所發出的問卷，Python 在資料科學家日常頻繁使用語言中排名第一，對於技能組合涵蓋資料科學與軟體工程的約維安而言，學習 Python 的重要性不言可喻。\n",
    "\n",
    "![](tiobeIndex.png)\n",
    "\n",
    "來源：<https://www.tiobe.com/tiobe-index>\n",
    "\n",
    "![](ieee.png)\n",
    "\n",
    "來源：<https://spectrum.ieee.org/top-programming-languages>\n",
    "\n",
    "![](stackOverflowTrends.png)\n",
    "\n",
    "來源：<https://insights.stackoverflow.com/trends>\n",
    "\n",
    "![](kaggle.png)\n",
    "\n",
    "來源：<https://www.kaggle.com/yaojenkuo/notebook-kaggle-survey-2020>\n",
    "\n",
    "## Python 風格指南\n",
    "\n",
    "風格指南（Style guide）指的是一套規範程式語言在寫作時必須遵守的編排、格式和設計的準則，遵從風格指南能夠確保每一段程式碼都和其他不同人寫作的程式碼有高度一致性，被眾多使用者採用的 Python 風格指南是官方的 Python 改進提案（Python Enhancement Proposals, PEPs）第八項：<https://www.python.org/dev/peps/pep-0008>，其中值得注意的幾個重點有：\n",
    "\n",
    "- 縮排使用四個空格，不同於多數的程式語言使用一對大括號（A curly-brace pair）將敘述包裝形成程式區塊（Code blocks），Python 使用縮排（Indentations）將敘述包裝為程式區塊，因此這個風格顯得格外重要。\n",
    "- 命名的時候使用全小寫英文，採用蛇形命名法（Snake case），不同單字之間以底線 _ 相隔。\n",
    "- 不能使用保留字作物件的命名，會產生錯誤，Python 的保留字可以參考：<https://docs.python.org/3/reference/lexical_analysis.html#keywords>\n",
    "- 使用單數名詞為資料型別（Data types）實例的物件命名，使用複數名詞為資料結構（Data structures）實例的物件命名，使用動詞為函數（Functions）或方法（Methods）命名，盡量讓名稱簡潔且具有意義。\n",
    "- 不要使用內建函數作物件的命名，避免覆蓋內建函數的功能，Python 的內建函數可以參考：<https://docs.python.org/3/library/functions.html>。\n",
    "\n",
    "```python\n",
    "# Good Python naming\n",
    "taiwan_number_one = True\n",
    "taiwan_number_1 = True\n",
    "# Bad Python naming\n",
    "taiwanNumberOne = True\n",
    "Taiwan_Number_One = True\n",
    "TaiwanNumberOne = True\n",
    "twno1 = True\n",
    "int = 87  # int() is a built-in function\n",
    "```\n",
    "\n",
    "## Python 的哈囉世界\n",
    "\n",
    "「哈囉世界」是每種語言最基本也最簡單的程式，通常用作確認一個語言如何運作、編譯器、開發環境及執行環境是否已經安裝妥當。要順利運行 Python 的哈囉世界以及未來的 Python 資料科學應用，可以直接點選 JupyterLite 連結在瀏覽器開啟 JupyterLab：\n",
    "\n",
    "<https://jupyterlite.datainpoint.com/lab>\n",
    "\n",
    "啟動之後來到 JupyterLab 的首頁，在右方 Launcher 點選新增一個核心（Kernel）為 Pyolite 的 Jupyter Notebook。\n",
    "\n",
    "![](jupyterLite.png)\n",
    "\n",
    "並且在 Jupyter Notebook 的第一個儲存格中印出 Python 的哈囉世界。"
   ]
  },
  {
   "cell_type": "code",
   "execution_count": 1,
   "id": "stuffed-decline",
   "metadata": {},
   "outputs": [
    {
     "name": "stdout",
     "output_type": "stream",
     "text": [
      "Hello, World!\n"
     ]
    }
   ],
   "source": [
    "print(\"Hello, World!\")"
   ]
  },
  {
   "cell_type": "markdown",
   "id": "formed-brush",
   "metadata": {
    "deletable": false,
    "editable": false
   },
   "source": [
    "## Python 禪學\n",
    "\n",
    "除了 Python 的哈囉世界，我們也很鼓勵初學者花一點時間閱讀 Python 禪學（The Zen of Python），暸解設計以及愛好這個程式語言的人在解決問題或者面臨抉擇的時候，大都採用什麼樣的價值觀與思緒，我最喜歡的一句 Python 禪學是：\n",
    "\n",
    "> Now is better than never.\n",
    "\n",
    "在 Jupyter Notebook 的第二個儲存格中印出 Python 禪學。"
   ]
  },
  {
   "cell_type": "code",
   "execution_count": 2,
   "id": "finite-worst",
   "metadata": {},
   "outputs": [
    {
     "name": "stdout",
     "output_type": "stream",
     "text": [
      "The Zen of Python, by Tim Peters\n",
      "\n",
      "Beautiful is better than ugly.\n",
      "Explicit is better than implicit.\n",
      "Simple is better than complex.\n",
      "Complex is better than complicated.\n",
      "Flat is better than nested.\n",
      "Sparse is better than dense.\n",
      "Readability counts.\n",
      "Special cases aren't special enough to break the rules.\n",
      "Although practicality beats purity.\n",
      "Errors should never pass silently.\n",
      "Unless explicitly silenced.\n",
      "In the face of ambiguity, refuse the temptation to guess.\n",
      "There should be one-- and preferably only one --obvious way to do it.\n",
      "Although that way may not be obvious at first unless you're Dutch.\n",
      "Now is better than never.\n",
      "Although never is often better than *right* now.\n",
      "If the implementation is hard to explain, it's a bad idea.\n",
      "If the implementation is easy to explain, it may be a good idea.\n",
      "Namespaces are one honking great idea -- let's do more of those!\n"
     ]
    }
   ],
   "source": [
    "import this"
   ]
  },
  {
   "cell_type": "markdown",
   "id": "front-production",
   "metadata": {
    "deletable": false,
    "editable": false
   },
   "source": [
    "順利執行 Python 的哈囉世界以及 Python 禪學之後，Python 起步走就大功告成了。\n",
    "\n",
    "## 延伸閱讀\n",
    "\n",
    "- [JupyterLite: Jupyter ❤️ WebAssembly ❤️ Python](https://blog.jupyter.org/jupyterlite-jupyter-%EF%B8%8F-webassembly-%EF%B8%8F-python-f6e2e41ab3fa)\n",
    "- <https://docs.python.org/3/reference/lexical_analysis.html#keywords>\n",
    "- <https://www.python.org/dev/peps/pep-0008>"
   ]
  }
 ],
 "metadata": {
  "kernelspec": {
   "display_name": "Python 3",
   "language": "python",
   "name": "python3"
  },
  "language_info": {
   "codemirror_mode": {
    "name": "ipython",
    "version": 3
   },
   "file_extension": ".py",
   "mimetype": "text/x-python",
   "name": "python",
   "nbconvert_exporter": "python",
   "pygments_lexer": "ipython3",
   "version": "3.8.5"
  }
 },
 "nbformat": 4,
 "nbformat_minor": 5
}
